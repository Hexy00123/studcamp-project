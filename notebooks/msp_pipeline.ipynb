{
 "cells": [
  {
   "cell_type": "code",
   "execution_count": 1,
   "id": "d113f724",
   "metadata": {},
   "outputs": [],
   "source": [
    "import polars as pl"
   ]
  },
  {
   "cell_type": "markdown",
   "id": "59f7dbb7",
   "metadata": {},
   "source": [
    "## 1. Pipeline for test dataframe"
   ]
  },
  {
   "cell_type": "code",
   "execution_count": 2,
   "id": "fbd2fdf2",
   "metadata": {},
   "outputs": [
    {
     "data": {
      "text/plain": [
       "['tin',\n",
       " 'year',\n",
       " 'reg_number',\n",
       " 'kind',\n",
       " 'category',\n",
       " 'org_name',\n",
       " 'org_short_name',\n",
       " 'activity_code_main',\n",
       " 'region_iso_code',\n",
       " 'region_code',\n",
       " 'region',\n",
       " 'area',\n",
       " 'settlement',\n",
       " 'settlement_type',\n",
       " 'oktmo',\n",
       " 'lat',\n",
       " 'lon',\n",
       " 'start_date',\n",
       " 'end_date',\n",
       " 'revenue',\n",
       " 'expenditure',\n",
       " 'employees_count']"
      ]
     },
     "execution_count": 2,
     "metadata": {},
     "output_type": "execute_result"
    }
   ],
   "source": [
    "df = pl.read_parquet(\"../data/batches/batch1.parquet\")\n",
    "df.columns"
   ]
  },
  {
   "cell_type": "markdown",
   "id": "bc1c6792",
   "metadata": {},
   "source": [
    "**Write to clickhouse**: tin, reg_number, year, kind, category, activity_code_main.split('.')[0], region_code, settlement_type, lat, lon, revenue,  expenditure, profitability=(revenue - expenditure)/revenue, employees_count\n",
    "\n",
    "**Drop**: org_name, org_short_name, region_iso_code, area, settlement, settlement_type, oktmo, start_date, end_date, "
   ]
  },
  {
   "cell_type": "code",
   "execution_count": 3,
   "id": "e0f601f6",
   "metadata": {},
   "outputs": [
    {
     "data": {
      "text/html": [
       "<div><style>\n",
       ".dataframe > thead > tr,\n",
       ".dataframe > tbody > tr {\n",
       "  text-align: right;\n",
       "  white-space: pre-wrap;\n",
       "}\n",
       "</style>\n",
       "<small>shape: (5, 22)</small><table border=\"1\" class=\"dataframe\"><thead><tr><th>tin</th><th>year</th><th>reg_number</th><th>kind</th><th>category</th><th>org_name</th><th>org_short_name</th><th>activity_code_main</th><th>region_iso_code</th><th>region_code</th><th>region</th><th>area</th><th>settlement</th><th>settlement_type</th><th>oktmo</th><th>lat</th><th>lon</th><th>start_date</th><th>end_date</th><th>revenue</th><th>expenditure</th><th>employees_count</th></tr><tr><td>i64</td><td>i64</td><td>str</td><td>i64</td><td>i64</td><td>str</td><td>str</td><td>str</td><td>str</td><td>i64</td><td>str</td><td>str</td><td>str</td><td>str</td><td>str</td><td>str</td><td>str</td><td>str</td><td>str</td><td>str</td><td>str</td><td>str</td></tr></thead><tbody><tr><td>1659060204</td><td>2018</td><td>&quot;1051637088788&quot;</td><td>1</td><td>2</td><td>&quot;ОБЩЕСТВО С ОГРАНИЧЕННОЙ ОТВЕТС…</td><td>&quot;ООО &quot;ЭКОСТРОЙ&quot;&quot;</td><td>&quot;41.2&quot;</td><td>&quot;RU-UD&quot;</td><td>18</td><td>&quot;Удмуртская республика&quot;</td><td>&quot;&quot;</td><td>&quot;Ижевск&quot;</td><td>&quot;г&quot;</td><td>&quot;94701000001&quot;</td><td>&quot;56.852737&quot;</td><td>&quot;53.21149&quot;</td><td>&quot;2017-07-10&quot;</td><td>&quot;2020-07-10&quot;</td><td>&quot;27439000.0&quot;</td><td>&quot;27954000.0&quot;</td><td>&quot;3&quot;</td></tr><tr><td>1659060204</td><td>2019</td><td>&quot;1051637088788&quot;</td><td>1</td><td>2</td><td>&quot;ОБЩЕСТВО С ОГРАНИЧЕННОЙ ОТВЕТС…</td><td>&quot;ООО &quot;ЭКОСТРОЙ&quot;&quot;</td><td>&quot;41.2&quot;</td><td>&quot;RU-UD&quot;</td><td>18</td><td>&quot;Удмуртская республика&quot;</td><td>&quot;&quot;</td><td>&quot;Ижевск&quot;</td><td>&quot;г&quot;</td><td>&quot;94701000001&quot;</td><td>&quot;56.852737&quot;</td><td>&quot;53.21149&quot;</td><td>&quot;2017-07-10&quot;</td><td>&quot;2020-07-10&quot;</td><td>&quot;0.0&quot;</td><td>&quot;0.0&quot;</td><td>&quot;0&quot;</td></tr><tr><td>1659060204</td><td>2020</td><td>&quot;1051637088788&quot;</td><td>1</td><td>2</td><td>&quot;ОБЩЕСТВО С ОГРАНИЧЕННОЙ ОТВЕТС…</td><td>&quot;ООО &quot;ЭКОСТРОЙ&quot;&quot;</td><td>&quot;41.2&quot;</td><td>&quot;RU-UD&quot;</td><td>18</td><td>&quot;Удмуртская республика&quot;</td><td>&quot;&quot;</td><td>&quot;Ижевск&quot;</td><td>&quot;г&quot;</td><td>&quot;94701000001&quot;</td><td>&quot;56.852737&quot;</td><td>&quot;53.21149&quot;</td><td>&quot;2017-07-10&quot;</td><td>&quot;2020-07-10&quot;</td><td>&quot;0.0&quot;</td><td>&quot;0.0&quot;</td><td>&quot;0&quot;</td></tr><tr><td>1659060204</td><td>2020</td><td>&quot;1051637088788&quot;</td><td>1</td><td>1</td><td>&quot;ОБЩЕСТВО С ОГРАНИЧЕННОЙ ОТВЕТС…</td><td>&quot;ООО &quot;ЭКОСТРОЙ&quot;&quot;</td><td>&quot;41.2&quot;</td><td>&quot;RU-UD&quot;</td><td>18</td><td>&quot;Удмуртская республика&quot;</td><td>&quot;&quot;</td><td>&quot;Ижевск&quot;</td><td>&quot;г&quot;</td><td>&quot;94701000001&quot;</td><td>&quot;56.852737&quot;</td><td>&quot;53.21149&quot;</td><td>&quot;2020-08-10&quot;</td><td>&quot;2021-08-10&quot;</td><td>&quot;0.0&quot;</td><td>&quot;0.0&quot;</td><td>&quot;0&quot;</td></tr><tr><td>1659060250</td><td>2018</td><td>&quot;1051637089041&quot;</td><td>1</td><td>2</td><td>&quot;ОБЩЕСТВО С ОГРАНИЧЕННОЙ ОТВЕТС…</td><td>&quot;ООО &quot;МЕТАЛЛИСТ&quot;&quot;</td><td>&quot;26.60.1&quot;</td><td>&quot;RU-TA&quot;</td><td>16</td><td>&quot;Республика Татарстан&quot;</td><td>&quot;&quot;</td><td>&quot;Казань&quot;</td><td>&quot;г&quot;</td><td>&quot;92701000001&quot;</td><td>&quot;55.794357&quot;</td><td>&quot;49.111496&quot;</td><td>&quot;2016-08-10&quot;</td><td>&quot;2021-06-10&quot;</td><td>&quot;6156000.0&quot;</td><td>&quot;6067000.0&quot;</td><td>&quot;1&quot;</td></tr></tbody></table></div>"
      ],
      "text/plain": [
       "shape: (5, 22)\n",
       "┌────────────┬──────┬─────────────┬──────┬───┬────────────┬────────────┬─────────────┬─────────────┐\n",
       "│ tin        ┆ year ┆ reg_number  ┆ kind ┆ … ┆ end_date   ┆ revenue    ┆ expenditure ┆ employees_c │\n",
       "│ ---        ┆ ---  ┆ ---         ┆ ---  ┆   ┆ ---        ┆ ---        ┆ ---         ┆ ount        │\n",
       "│ i64        ┆ i64  ┆ str         ┆ i64  ┆   ┆ str        ┆ str        ┆ str         ┆ ---         │\n",
       "│            ┆      ┆             ┆      ┆   ┆            ┆            ┆             ┆ str         │\n",
       "╞════════════╪══════╪═════════════╪══════╪═══╪════════════╪════════════╪═════════════╪═════════════╡\n",
       "│ 1659060204 ┆ 2018 ┆ 10516370887 ┆ 1    ┆ … ┆ 2020-07-10 ┆ 27439000.0 ┆ 27954000.0  ┆ 3           │\n",
       "│            ┆      ┆ 88          ┆      ┆   ┆            ┆            ┆             ┆             │\n",
       "│ 1659060204 ┆ 2019 ┆ 10516370887 ┆ 1    ┆ … ┆ 2020-07-10 ┆ 0.0        ┆ 0.0         ┆ 0           │\n",
       "│            ┆      ┆ 88          ┆      ┆   ┆            ┆            ┆             ┆             │\n",
       "│ 1659060204 ┆ 2020 ┆ 10516370887 ┆ 1    ┆ … ┆ 2020-07-10 ┆ 0.0        ┆ 0.0         ┆ 0           │\n",
       "│            ┆      ┆ 88          ┆      ┆   ┆            ┆            ┆             ┆             │\n",
       "│ 1659060204 ┆ 2020 ┆ 10516370887 ┆ 1    ┆ … ┆ 2021-08-10 ┆ 0.0        ┆ 0.0         ┆ 0           │\n",
       "│            ┆      ┆ 88          ┆      ┆   ┆            ┆            ┆             ┆             │\n",
       "│ 1659060250 ┆ 2018 ┆ 10516370890 ┆ 1    ┆ … ┆ 2021-06-10 ┆ 6156000.0  ┆ 6067000.0   ┆ 1           │\n",
       "│            ┆      ┆ 41          ┆      ┆   ┆            ┆            ┆             ┆             │\n",
       "└────────────┴──────┴─────────────┴──────┴───┴────────────┴────────────┴─────────────┴─────────────┘"
      ]
     },
     "execution_count": 3,
     "metadata": {},
     "output_type": "execute_result"
    }
   ],
   "source": [
    "df.head()"
   ]
  },
  {
   "cell_type": "markdown",
   "id": "3851e382",
   "metadata": {},
   "source": [
    "Split activity code:"
   ]
  },
  {
   "cell_type": "code",
   "execution_count": 4,
   "id": "0c32e24c",
   "metadata": {},
   "outputs": [],
   "source": [
    "df = df.with_columns(\n",
    "    pl.col(\"activity_code_main\").str.split(\".\").list.get(0).alias(\"activity_code_main\")\n",
    ")"
   ]
  },
  {
   "cell_type": "markdown",
   "id": "e2e54887",
   "metadata": {},
   "source": [
    "Cast columns to preferred types:"
   ]
  },
  {
   "cell_type": "code",
   "execution_count": 5,
   "id": "df3c4554",
   "metadata": {},
   "outputs": [],
   "source": [
    "for column in [\"lat\", \"lon\", \"employees_count\", \"activity_code_main\", \"reg_number\"]:\n",
    "    df = df.filter(pl.col(column) != \"\")\n",
    "\n",
    "df = df.with_columns(\n",
    "    pl.col(\"revenue\").cast(pl.Float32),\n",
    "    pl.col(\"expenditure\").cast(pl.Float32),\n",
    "    pl.col(\"lat\").cast(pl.Float32),\n",
    "    pl.col(\"lon\").cast(pl.Float32),\n",
    "    pl.col(\"employees_count\").cast(pl.Int32),\n",
    "    pl.col(\"activity_code_main\").cast(pl.Int32),\n",
    "    pl.col(\"reg_number\").cast(pl.Int64),\n",
    ")"
   ]
  },
  {
   "cell_type": "markdown",
   "id": "8a88654d",
   "metadata": {},
   "source": [
    "Add profitability column:"
   ]
  },
  {
   "cell_type": "code",
   "execution_count": 6,
   "id": "8ab789c0",
   "metadata": {},
   "outputs": [
    {
     "data": {
      "text/html": [
       "<div><style>\n",
       ".dataframe > thead > tr,\n",
       ".dataframe > tbody > tr {\n",
       "  text-align: right;\n",
       "  white-space: pre-wrap;\n",
       "}\n",
       "</style>\n",
       "<small>shape: (5, 23)</small><table border=\"1\" class=\"dataframe\"><thead><tr><th>tin</th><th>year</th><th>reg_number</th><th>kind</th><th>category</th><th>org_name</th><th>org_short_name</th><th>activity_code_main</th><th>region_iso_code</th><th>region_code</th><th>region</th><th>area</th><th>settlement</th><th>settlement_type</th><th>oktmo</th><th>lat</th><th>lon</th><th>start_date</th><th>end_date</th><th>revenue</th><th>expenditure</th><th>employees_count</th><th>profitability</th></tr><tr><td>i64</td><td>i64</td><td>i64</td><td>i64</td><td>i64</td><td>str</td><td>str</td><td>i32</td><td>str</td><td>i64</td><td>str</td><td>str</td><td>str</td><td>str</td><td>str</td><td>f32</td><td>f32</td><td>str</td><td>str</td><td>f32</td><td>f32</td><td>i32</td><td>f32</td></tr></thead><tbody><tr><td>1659060204</td><td>2018</td><td>1051637088788</td><td>1</td><td>2</td><td>&quot;ОБЩЕСТВО С ОГРАНИЧЕННОЙ ОТВЕТС…</td><td>&quot;ООО &quot;ЭКОСТРОЙ&quot;&quot;</td><td>41</td><td>&quot;RU-UD&quot;</td><td>18</td><td>&quot;Удмуртская республика&quot;</td><td>&quot;&quot;</td><td>&quot;Ижевск&quot;</td><td>&quot;г&quot;</td><td>&quot;94701000001&quot;</td><td>56.852737</td><td>53.211491</td><td>&quot;2017-07-10&quot;</td><td>&quot;2020-07-10&quot;</td><td>2.7439e7</td><td>2.7954e7</td><td>3</td><td>-0.018769</td></tr><tr><td>1659060204</td><td>2019</td><td>1051637088788</td><td>1</td><td>2</td><td>&quot;ОБЩЕСТВО С ОГРАНИЧЕННОЙ ОТВЕТС…</td><td>&quot;ООО &quot;ЭКОСТРОЙ&quot;&quot;</td><td>41</td><td>&quot;RU-UD&quot;</td><td>18</td><td>&quot;Удмуртская республика&quot;</td><td>&quot;&quot;</td><td>&quot;Ижевск&quot;</td><td>&quot;г&quot;</td><td>&quot;94701000001&quot;</td><td>56.852737</td><td>53.211491</td><td>&quot;2017-07-10&quot;</td><td>&quot;2020-07-10&quot;</td><td>0.0</td><td>0.0</td><td>0</td><td>NaN</td></tr><tr><td>1659060204</td><td>2020</td><td>1051637088788</td><td>1</td><td>2</td><td>&quot;ОБЩЕСТВО С ОГРАНИЧЕННОЙ ОТВЕТС…</td><td>&quot;ООО &quot;ЭКОСТРОЙ&quot;&quot;</td><td>41</td><td>&quot;RU-UD&quot;</td><td>18</td><td>&quot;Удмуртская республика&quot;</td><td>&quot;&quot;</td><td>&quot;Ижевск&quot;</td><td>&quot;г&quot;</td><td>&quot;94701000001&quot;</td><td>56.852737</td><td>53.211491</td><td>&quot;2017-07-10&quot;</td><td>&quot;2020-07-10&quot;</td><td>0.0</td><td>0.0</td><td>0</td><td>NaN</td></tr><tr><td>1659060204</td><td>2020</td><td>1051637088788</td><td>1</td><td>1</td><td>&quot;ОБЩЕСТВО С ОГРАНИЧЕННОЙ ОТВЕТС…</td><td>&quot;ООО &quot;ЭКОСТРОЙ&quot;&quot;</td><td>41</td><td>&quot;RU-UD&quot;</td><td>18</td><td>&quot;Удмуртская республика&quot;</td><td>&quot;&quot;</td><td>&quot;Ижевск&quot;</td><td>&quot;г&quot;</td><td>&quot;94701000001&quot;</td><td>56.852737</td><td>53.211491</td><td>&quot;2020-08-10&quot;</td><td>&quot;2021-08-10&quot;</td><td>0.0</td><td>0.0</td><td>0</td><td>NaN</td></tr><tr><td>1659060250</td><td>2018</td><td>1051637089041</td><td>1</td><td>2</td><td>&quot;ОБЩЕСТВО С ОГРАНИЧЕННОЙ ОТВЕТС…</td><td>&quot;ООО &quot;МЕТАЛЛИСТ&quot;&quot;</td><td>26</td><td>&quot;RU-TA&quot;</td><td>16</td><td>&quot;Республика Татарстан&quot;</td><td>&quot;&quot;</td><td>&quot;Казань&quot;</td><td>&quot;г&quot;</td><td>&quot;92701000001&quot;</td><td>55.794357</td><td>49.111496</td><td>&quot;2016-08-10&quot;</td><td>&quot;2021-06-10&quot;</td><td>6.156e6</td><td>6.067e6</td><td>1</td><td>0.014457</td></tr></tbody></table></div>"
      ],
      "text/plain": [
       "shape: (5, 23)\n",
       "┌────────────┬──────┬──────────────┬──────┬───┬──────────┬─────────────┬─────────────┬─────────────┐\n",
       "│ tin        ┆ year ┆ reg_number   ┆ kind ┆ … ┆ revenue  ┆ expenditure ┆ employees_c ┆ profitabili │\n",
       "│ ---        ┆ ---  ┆ ---          ┆ ---  ┆   ┆ ---      ┆ ---         ┆ ount        ┆ ty          │\n",
       "│ i64        ┆ i64  ┆ i64          ┆ i64  ┆   ┆ f32      ┆ f32         ┆ ---         ┆ ---         │\n",
       "│            ┆      ┆              ┆      ┆   ┆          ┆             ┆ i32         ┆ f32         │\n",
       "╞════════════╪══════╪══════════════╪══════╪═══╪══════════╪═════════════╪═════════════╪═════════════╡\n",
       "│ 1659060204 ┆ 2018 ┆ 105163708878 ┆ 1    ┆ … ┆ 2.7439e7 ┆ 2.7954e7    ┆ 3           ┆ -0.018769   │\n",
       "│            ┆      ┆ 8            ┆      ┆   ┆          ┆             ┆             ┆             │\n",
       "│ 1659060204 ┆ 2019 ┆ 105163708878 ┆ 1    ┆ … ┆ 0.0      ┆ 0.0         ┆ 0           ┆ NaN         │\n",
       "│            ┆      ┆ 8            ┆      ┆   ┆          ┆             ┆             ┆             │\n",
       "│ 1659060204 ┆ 2020 ┆ 105163708878 ┆ 1    ┆ … ┆ 0.0      ┆ 0.0         ┆ 0           ┆ NaN         │\n",
       "│            ┆      ┆ 8            ┆      ┆   ┆          ┆             ┆             ┆             │\n",
       "│ 1659060204 ┆ 2020 ┆ 105163708878 ┆ 1    ┆ … ┆ 0.0      ┆ 0.0         ┆ 0           ┆ NaN         │\n",
       "│            ┆      ┆ 8            ┆      ┆   ┆          ┆             ┆             ┆             │\n",
       "│ 1659060250 ┆ 2018 ┆ 105163708904 ┆ 1    ┆ … ┆ 6.156e6  ┆ 6.067e6     ┆ 1           ┆ 0.014457    │\n",
       "│            ┆      ┆ 1            ┆      ┆   ┆          ┆             ┆             ┆             │\n",
       "└────────────┴──────┴──────────────┴──────┴───┴──────────┴─────────────┴─────────────┴─────────────┘"
      ]
     },
     "execution_count": 6,
     "metadata": {},
     "output_type": "execute_result"
    }
   ],
   "source": [
    "df = df.with_columns(\n",
    "    ((pl.col(\"revenue\") - pl.col(\"expenditure\")) / pl.col(\"revenue\")).alias(\n",
    "    \"profitability\")\n",
    ")\n",
    "df.head()"
   ]
  },
  {
   "cell_type": "markdown",
   "id": "84b8ed2a",
   "metadata": {},
   "source": [
    "Drop columns:"
   ]
  },
  {
   "cell_type": "code",
   "execution_count": 9,
   "id": "bd961c8e",
   "metadata": {},
   "outputs": [],
   "source": [
    "df = df.drop([\n",
    "    \"org_name\",\n",
    "    \"org_short_name\",\n",
    "    \"region_iso_code\",\n",
    "    \"region\",\n",
    "    \"area\",\n",
    "    \"settlement\",\n",
    "    \"oktmo\",\n",
    "    \"start_date\",\n",
    "    \"end_date\"\n",
    "])"
   ]
  },
  {
   "cell_type": "markdown",
   "id": "531e660d",
   "metadata": {},
   "source": [
    "The dataframe should have the structure presented in the figma diagram:"
   ]
  },
  {
   "cell_type": "code",
   "execution_count": 10,
   "id": "0ae09efd",
   "metadata": {},
   "outputs": [
    {
     "data": {
      "text/plain": [
       "['tin',\n",
       " 'year',\n",
       " 'reg_number',\n",
       " 'kind',\n",
       " 'category',\n",
       " 'activity_code_main',\n",
       " 'region_code',\n",
       " 'settlement_type',\n",
       " 'lat',\n",
       " 'lon',\n",
       " 'revenue',\n",
       " 'expenditure',\n",
       " 'employees_count',\n",
       " 'profitability']"
      ]
     },
     "execution_count": 10,
     "metadata": {},
     "output_type": "execute_result"
    }
   ],
   "source": [
    "df.columns"
   ]
  },
  {
   "cell_type": "markdown",
   "id": "4f5e996a",
   "metadata": {},
   "source": [
    "## 2. Process all parquet files using the pipeline"
   ]
  },
  {
   "cell_type": "code",
   "execution_count": 11,
   "id": "6867abac",
   "metadata": {
    "lines_to_next_cell": 0
   },
   "outputs": [
    {
     "data": {
      "text/plain": [
       "[]"
      ]
     },
     "execution_count": 11,
     "metadata": {},
     "output_type": "execute_result"
    }
   ],
   "source": [
    "from clickhouse_driver import Client\n",
    "from dotenv import load_dotenv\n",
    "import os\n",
    "\n",
    "load_dotenv()\n",
    "os.makedirs(\"../data/batches_msp/\", exist_ok=True)\n",
    "\n",
    "host = os.getenv(\"CLICKHOUSE_HOST\")\n",
    "user = os.getenv(\"CLICKHOUSE_USER\")\n",
    "password = os.getenv(\"CLICKHOUSE_PASSWORD\")\n",
    "port = int(os.getenv(\"CLICKHOUSE_PORT\", 9440))\n",
    "\n",
    "client = Client(\n",
    "    host=host,\n",
    "    user=user,\n",
    "    password=password,\n",
    "    port=port,\n",
    "    secure=True,\n",
    "    verify=True,\n",
    "    ca_certs=\"/usr/local/share/ca-certificates/Yandex/RootCA.crt\",\n",
    ")\n",
    "client.execute(\"\"\"\n",
    "    DROP TABLE IF EXISTS db1.MSP\n",
    "\"\"\")\n",
    "client.execute(\"\"\"\n",
    "    CREATE TABLE IF NOT EXISTS db1.MSP (\n",
    "    tin Int64,\n",
    "    year Int64,\n",
    "    reg_number Int64,\n",
    "    kind Int64,\n",
    "    category Int64, \n",
    "    activity_code_main Int32,\n",
    "    region_code Int64,\n",
    "    settlement_type String,\n",
    "    lat Float32,\n",
    "    lon Float32,\n",
    "    revenue Float32,\n",
    "    expenditure Float32,\n",
    "    employees_count Int32,\n",
    "    profitability Float32\n",
    "    ) ENGINE = MergeTree()\n",
    "    ORDER BY (year, reg_number, tin)\n",
    "\"\"\")"
   ]
  },
  {
   "cell_type": "code",
   "execution_count": 14,
   "id": "dafbd1df",
   "metadata": {},
   "outputs": [
    {
     "name": "stdout",
     "output_type": "stream",
     "text": [
      "File: batch8.parquet\n",
      "File: batch4.parquet\n",
      "File: batch2.parquet\n",
      "File: batch7.parquet\n",
      "File: batch3.parquet\n",
      "File: batch6.parquet\n",
      "File: batch1.parquet\n",
      "File: batch0.parquet\n",
      "File: batch5.parquet\n"
     ]
    }
   ],
   "source": [
    "for file in os.listdir(\"../data/batches\"):\n",
    "    df = pl.read_parquet(f\"../data/batches/{file}\")\n",
    "    print(f\"File: {file}\")\n",
    "\n",
    "    df = df.with_columns(\n",
    "        pl.col(\"activity_code_main\").str.split(\".\").list.get(0).alias(\"activity_code_main\")\n",
    "    )\n",
    "    for column in [\"lat\", \"lon\", \"employees_count\", \"activity_code_main\", \"reg_number\"]:\n",
    "        df = df.filter(pl.col(column) != \"\")\n",
    "    df = df.with_columns(\n",
    "        pl.col(\"revenue\").cast(pl.Float32),\n",
    "        pl.col(\"expenditure\").cast(pl.Float32),\n",
    "        pl.col(\"lat\").cast(pl.Float32),\n",
    "        pl.col(\"lon\").cast(pl.Float32),\n",
    "        pl.col(\"employees_count\").cast(pl.Int32),\n",
    "        pl.col(\"activity_code_main\").cast(pl.Int32),\n",
    "        pl.col(\"reg_number\").cast(pl.Int64),\n",
    "    )\n",
    "    df = df.with_columns(\n",
    "        ((pl.col(\"revenue\") - pl.col(\"expenditure\")) / pl.col(\"revenue\")).alias(\n",
    "        \"profitability\")\n",
    "    )\n",
    "    df = df.drop([\n",
    "        \"org_name\",\n",
    "        \"org_short_name\",\n",
    "        \"region_iso_code\",\n",
    "        \"region\",\n",
    "        \"area\",\n",
    "        \"settlement\",\n",
    "        \"oktmo\",\n",
    "        \"start_date\",\n",
    "        \"end_date\"\n",
    "    ])\n",
    "    \n",
    "    df.write_parquet(f\"../data/batches_msp/{file}\")"
   ]
  },
  {
   "cell_type": "markdown",
   "id": "d5fc0324",
   "metadata": {},
   "source": [
    "To upload the batches to the clickhouse database, use this command (Requires clickhouse client):\n",
    "```bash\n",
    "echo \"insert into MSP from infile 'data/batches_msp/batch0.parquet' FORMAT Parquet;\" | clickhouse-client --host clickhouse-example-host \\\n",
    "                  --secure \\\n",
    "                  --user admin \\\n",
    "                  --database db1 \\\n",
    "                  --port 9440 \\\n",
    "                  --ask-password\n",
    "\n",
    "``` "
   ]
  }
 ],
 "metadata": {
  "kernelspec": {
   "display_name": "project-y11spLtF-py3.13",
   "language": "python",
   "name": "python3"
  },
  "language_info": {
   "codemirror_mode": {
    "name": "ipython",
    "version": 3
   },
   "file_extension": ".py",
   "mimetype": "text/x-python",
   "name": "python",
   "nbconvert_exporter": "python",
   "pygments_lexer": "ipython3",
   "version": "3.13.5"
  }
 },
 "nbformat": 4,
 "nbformat_minor": 5
}
