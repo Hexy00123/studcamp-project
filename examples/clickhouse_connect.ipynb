{
 "cells": [
  {
   "cell_type": "code",
   "execution_count": 1,
   "id": "350ee4cf",
   "metadata": {},
   "outputs": [
    {
     "name": "stdout",
     "output_type": "stream",
     "text": [
      "[('25.3.4.190',)]\n"
     ]
    }
   ],
   "source": [
    "from clickhouse_driver import Client\n",
    "from dotenv import load_dotenv\n",
    "import os\n",
    "\n",
    "load_dotenv()\n",
    "\n",
    "host = os.getenv(\"CLICKHOUSE_HOST\")\n",
    "user = os.getenv(\"CLICKHOUSE_USER\")\n",
    "password = os.getenv(\"CLICKHOUSE_PASSWORD\")\n",
    "port = int(os.getenv(\"CLICKHOUSE_PORT\", 9440))\n",
    "\n",
    "client = Client(\n",
    "    host=host,\n",
    "    user=user,\n",
    "    password=password,\n",
    "    port=port,\n",
    "    secure=True,\n",
    "    verify=True,\n",
    "    ca_certs=\"/usr/local/share/ca-certificates/Yandex/RootCA.crt\",\n",
    ")\n",
    "\n",
    "print(client.execute(\"SELECT version()\"))"
   ]
  },
  {
   "cell_type": "code",
   "execution_count": 2,
   "id": "b51c4443",
   "metadata": {},
   "outputs": [
    {
     "data": {
      "text/plain": [
       "[('Alice', 'alice@example.com', 25),\n",
       " ('Bob', 'bob@example.com', 30),\n",
       " ('Charlie', 'charlie@example.com', 28),\n",
       " ('Diana', 'diana@example.com', 22),\n",
       " ('Eve', 'eve@example.com', 35),\n",
       " ('Alice', 'alice@example.com', 25),\n",
       " ('Bob', 'bob@example.com', 30),\n",
       " ('Charlie', 'charlie@example.com', 28),\n",
       " ('Diana', 'diana@example.com', 22),\n",
       " ('Eve', 'eve@example.com', 35)]"
      ]
     },
     "execution_count": 2,
     "metadata": {},
     "output_type": "execute_result"
    }
   ],
   "source": [
    "client.execute('''\n",
    "  CREATE TABLE IF NOT EXISTS db1.users (\n",
    "    name String,\n",
    "    mail String,\n",
    "    age UInt8\n",
    "  ) ENGINE = MergeTree()\n",
    "  ORDER BY name\n",
    "''')\n",
    "\n",
    "users_data = [\n",
    "  ('Alice', 'alice@example.com', 25),\n",
    "  ('Bob', 'bob@example.com', 30),\n",
    "  ('Charlie', 'charlie@example.com', 28),\n",
    "  ('Diana', 'diana@example.com', 22),\n",
    "  ('Eve', 'eve@example.com', 35)\n",
    "]\n",
    "\n",
    "client.execute(\n",
    "  'INSERT INTO db1.users (name, mail, age) VALUES',\n",
    "  users_data\n",
    ")\n",
    "\n",
    "client.execute('SELECT * FROM db1.users')"
   ]
  },
  {
   "cell_type": "code",
   "execution_count": 3,
   "id": "2d0488f7",
   "metadata": {},
   "outputs": [
    {
     "data": {
      "text/plain": [
       "[]"
      ]
     },
     "execution_count": 3,
     "metadata": {},
     "output_type": "execute_result"
    }
   ],
   "source": [
    "client.execute('DROP TABLE IF EXISTS db1.users')"
   ]
  }
 ],
 "metadata": {
  "kernelspec": {
   "display_name": ".venv",
   "language": "python",
   "name": "python3"
  },
  "language_info": {
   "codemirror_mode": {
    "name": "ipython",
    "version": 3
   },
   "file_extension": ".py",
   "mimetype": "text/x-python",
   "name": "python",
   "nbconvert_exporter": "python",
   "pygments_lexer": "ipython3",
   "version": "3.13.2"
  }
 },
 "nbformat": 4,
 "nbformat_minor": 5
}
